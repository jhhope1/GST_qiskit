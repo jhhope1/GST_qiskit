{
 "cells": [
  {
   "cell_type": "code",
   "execution_count": 1,
   "metadata": {},
   "outputs": [],
   "source": [
    "from utils.utils import get_circs_from_exp_design, get_exp_design, save_dataset, clear_and_mk_files\r\n",
    "from utils.parse import Parse\r\n",
    "from qiskit import IBMQ\r\n",
    "import numpy as np\r\n",
    "from qiskit import *\r\n",
    "from qiskit.providers.ibmq.managed import IBMQJobManager\r\n",
    "from qiskit.tools.monitor import job_monitor\r\n",
    "from tqdm import tqdm\r\n",
    "\r\n",
    "IBMQ.load_account()\r\n",
    "provider = IBMQ.get_provider(hub='ibm-q-skku', group='snu', project='snu-students')\r\n",
    "backend = provider.get_backend('ibmq_manhattan')"
   ]
  },
  {
   "cell_type": "code",
   "execution_count": 2,
   "metadata": {},
   "outputs": [],
   "source": [
    "GST_type = \"smq2Q_XYICPHASE\"\r\n",
    "n_qubit = 2\r\n",
    "num_shots_per_point = 1024\r\n",
    "max_max_length = 16\r\n",
    "meas_key = ['00', '01', '10', '11']"
   ]
  },
  {
   "cell_type": "code",
   "execution_count": 3,
   "metadata": {},
   "outputs": [
    {
     "name": "stdout",
     "output_type": "stream",
     "text": [
      "smq2Q_XYICPHASE folder is removed\n",
      "smq2Q_XYICPHASE folder with empty dataset.txt is reconstructed\n"
     ]
    }
   ],
   "source": [
    "clear_and_mk_files(GST_type, max_max_length)"
   ]
  },
  {
   "cell_type": "code",
   "execution_count": 4,
   "metadata": {},
   "outputs": [],
   "source": [
    "exp_design = get_exp_design(max_max_length, GST_type)\r\n",
    "circs = get_circs_from_exp_design(exp_design, n_qubit)"
   ]
  },
  {
   "cell_type": "code",
   "execution_count": 5,
   "metadata": {},
   "outputs": [],
   "source": [
    "circs = transpile(circs, backend=backend)\r\n",
    "job_manager = IBMQJobManager()\r\n",
    "job_set_foo = job_manager.run(circs, backend=backend, name='foo', meas_level = 2, shots = num_shots_per_point)"
   ]
  },
  {
   "cell_type": "code",
   "execution_count": 6,
   "metadata": {},
   "outputs": [
    {
     "name": "stderr",
     "output_type": "stream",
     "text": [
      "  0%|          | 0/11 [00:00<?, ?it/s]"
     ]
    },
    {
     "name": "stdout",
     "output_type": "stream",
     "text": [
      "Job Status: job is actively running"
     ]
    },
    {
     "name": "stderr",
     "output_type": "stream",
     "text": [
      "  9%|▉         | 1/11 [05:44<57:20, 344.01s/it]"
     ]
    },
    {
     "name": "stdout",
     "output_type": "stream",
     "text": [
      "Job Status: job has successfully run\n",
      "Job Status: job is actively running"
     ]
    },
    {
     "name": "stderr",
     "output_type": "stream",
     "text": [
      " 18%|█▊        | 2/11 [11:56<52:52, 352.52s/it]"
     ]
    },
    {
     "name": "stdout",
     "output_type": "stream",
     "text": [
      "Job Status: job has successfully run\n",
      "Job Status: job is actively running"
     ]
    },
    {
     "name": "stderr",
     "output_type": "stream",
     "text": [
      " 27%|██▋       | 3/11 [32:45<1:22:51, 621.43s/it]"
     ]
    },
    {
     "name": "stdout",
     "output_type": "stream",
     "text": [
      "Job Status: job has successfully run\n",
      "Job Status: job is actively running"
     ]
    },
    {
     "name": "stderr",
     "output_type": "stream",
     "text": [
      " 36%|███▋      | 4/11 [38:47<1:03:25, 543.65s/it]"
     ]
    },
    {
     "name": "stdout",
     "output_type": "stream",
     "text": [
      "Job Status: job has successfully run\n",
      "Job Status: job is actively running"
     ]
    },
    {
     "name": "stderr",
     "output_type": "stream",
     "text": [
      " 45%|████▌     | 5/11 [49:50<57:57, 579.56s/it]  "
     ]
    },
    {
     "name": "stdout",
     "output_type": "stream",
     "text": [
      "Job Status: job has successfully run\n",
      "Job Status: job is actively running"
     ]
    },
    {
     "name": "stderr",
     "output_type": "stream",
     "text": [
      " 55%|█████▍    | 6/11 [55:03<41:36, 499.39s/it]"
     ]
    },
    {
     "name": "stdout",
     "output_type": "stream",
     "text": [
      "Job Status: job has successfully run\n",
      "Job Status: job is actively running"
     ]
    },
    {
     "name": "stderr",
     "output_type": "stream",
     "text": [
      " 64%|██████▎   | 7/11 [1:00:19<29:38, 444.55s/it]"
     ]
    },
    {
     "name": "stdout",
     "output_type": "stream",
     "text": [
      "Job Status: job has successfully run\n",
      "Job Status: job is actively running"
     ]
    },
    {
     "name": "stderr",
     "output_type": "stream",
     "text": [
      " 73%|███████▎  | 8/11 [1:05:28<20:11, 403.80s/it]"
     ]
    },
    {
     "name": "stdout",
     "output_type": "stream",
     "text": [
      "Job Status: job has successfully run\n",
      "Job Status: job is actively running"
     ]
    },
    {
     "name": "stderr",
     "output_type": "stream",
     "text": [
      " 82%|████████▏ | 9/11 [1:10:39<12:32, 376.10s/it]"
     ]
    },
    {
     "name": "stdout",
     "output_type": "stream",
     "text": [
      "Job Status: job has successfully run\n",
      "Job Status: job is actively running"
     ]
    },
    {
     "name": "stderr",
     "output_type": "stream",
     "text": [
      " 91%|█████████ | 10/11 [1:20:19<07:17, 437.10s/it]"
     ]
    },
    {
     "name": "stdout",
     "output_type": "stream",
     "text": [
      "Job Status: job has successfully run\n"
     ]
    },
    {
     "name": "stderr",
     "output_type": "stream",
     "text": [
      "100%|██████████| 11/11 [1:20:20<00:00, 438.24s/it]"
     ]
    },
    {
     "name": "stdout",
     "output_type": "stream",
     "text": [
      "Job Status: job has successfully run\n"
     ]
    },
    {
     "name": "stderr",
     "output_type": "stream",
     "text": [
      "\n"
     ]
    }
   ],
   "source": [
    "for job in tqdm(job_set_foo.jobs()):\r\n",
    "    job_monitor(job)"
   ]
  },
  {
   "cell_type": "code",
   "execution_count": 22,
   "metadata": {},
   "outputs": [],
   "source": [
    "results = job_set_foo.results().combine_results()\r\n",
    "meas_dict = [results.get_counts(i) for i in range(len(results.results))]"
   ]
  },
  {
   "cell_type": "code",
   "execution_count": 29,
   "metadata": {},
   "outputs": [],
   "source": [
    "# Warning: 01 qubit means 1, 0 are measured in qubit 0, 1 in qiskit.\r\n",
    "meas_dict_pygsti = []\r\n",
    "for D in meas_dict:\r\n",
    "    D_pygsti = {}\r\n",
    "    for k in D:\r\n",
    "        if k=='00 00':\r\n",
    "            D_pygsti['00'] = D[k]\r\n",
    "        elif k=='10 00':\r\n",
    "            D_pygsti['01'] = D[k]\r\n",
    "        elif k=='01 00':\r\n",
    "            D_pygsti['10'] = D[k]\r\n",
    "        elif k=='11 00':\r\n",
    "            D_pygsti['11'] = D[k]\r\n",
    "    meas_dict_pygsti.append(D_pygsti)\r\n",
    "for D in meas_dict_pygsti:\r\n",
    "    for key in meas_key:\r\n",
    "        if key not in D:\r\n",
    "            D[key] = 0"
   ]
  },
  {
   "cell_type": "code",
   "execution_count": 31,
   "metadata": {},
   "outputs": [],
   "source": [
    "save_dataset(exp_design, meas_dict_pygsti, meas_key, GST_type)"
   ]
  },
  {
   "cell_type": "code",
   "execution_count": null,
   "metadata": {},
   "outputs": [],
   "source": [
    "idx = 0\r\n",
    "print(meas_key)\r\n",
    "print(len(circs), len(meas_dict),len(exp_design.all_circuits_needing_data))\r\n",
    "print(circs[idx])\r\n",
    "print(meas_dict_pygsti[idx])\r\n",
    "print(exp_design.all_circuits_needing_data[idx].str)"
   ]
  },
  {
   "cell_type": "code",
   "execution_count": null,
   "metadata": {},
   "outputs": [],
   "source": []
  },
  {
   "cell_type": "code",
   "execution_count": null,
   "metadata": {},
   "outputs": [],
   "source": []
  }
 ],
 "metadata": {
  "interpreter": {
   "hash": "1f432a864ca7f1c72301329ba221939b7478709eb63462f5da729ce6b8c04d40"
  },
  "kernelspec": {
   "display_name": "Python 3.7.0 64-bit",
   "name": "python3"
  },
  "language_info": {
   "codemirror_mode": {
    "name": "ipython",
    "version": 3
   },
   "file_extension": ".py",
   "mimetype": "text/x-python",
   "name": "python",
   "nbconvert_exporter": "python",
   "pygments_lexer": "ipython3",
   "version": "3.7.0"
  },
  "orig_nbformat": 4
 },
 "nbformat": 4,
 "nbformat_minor": 2
}